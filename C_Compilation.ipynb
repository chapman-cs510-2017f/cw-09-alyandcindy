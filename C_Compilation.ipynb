{
 "cells": [
  {
   "cell_type": "markdown",
   "metadata": {
    "collapsed": false
   },
   "source": [
    "Name: Aly Baughman, Cynthia Parks\n",
    "\n",
    "Student ID: 1923165, 2303535\n",
    "\n",
    "Email: baugh107@mail.chapman.edu, cparks@chapman.edu\n",
    "\n",
    "Course: CS510 Fall 2017\n",
    "\n",
    "Assignment: Classwork 9"
   ]
  },
  {
   "cell_type": "markdown",
   "metadata": {
    "collapsed": false
   },
   "source": [
    "## Purpose and Oragnization of Makefile"
   ]
  },
  {
   "cell_type": "markdown",
   "metadata": {
    "collapsed": false
   },
   "source": [
    "A makefile stores build instructions for all the C files in a project.  It tells make how to compile and link the program.  This is especially useful for large projects because typing all the file names in the call to gcc would be time consuming and tedious."
   ]
  },
  {
   "cell_type": "markdown",
   "metadata": {
    "collapsed": false
   },
   "source": [
    "## Types of Files"
   ]
  },
  {
   "cell_type": "markdown",
   "metadata": {
    "collapsed": false
   },
   "source": [
    "**Header File:** The header file contains the declarations of functions, variables, and constants used in the program so the compilers knows about them when they're being used in another module.\n",
    "\n",
    "**Source File:** The source file defines the information declared in the header file.\n",
    "\n",
    "**Object File:** An object file is the result of compiling a source file.  Object files are what get linked together to create the executable."
   ]
  },
  {
   "cell_type": "markdown",
   "metadata": {
    "collapsed": false
   },
   "source": [
    "## Compiling and Linking"
   ]
  },
  {
   "cell_type": "markdown",
   "metadata": {
    "collapsed": false
   },
   "source": [
    "**Compiling:** Compiling is the process of running the source code through a compiler, which converts the code to a machine-readable language. \n",
    "\n",
    "**Linking:** Linking is when a link editor takes all the object files created by the compiler and turns them into one executable file."
   ]
  }
 ],
 "metadata": {
  "kernelspec": {
   "display_name": "Python 3 (Ubuntu Linux)",
   "language": "python",
   "name": "python3"
  },
  "language_info": {
   "codemirror_mode": {
    "name": "ipython",
    "version": 3
   },
   "file_extension": ".py",
   "mimetype": "text/x-python",
   "name": "python",
   "nbconvert_exporter": "python",
   "pygments_lexer": "ipython3",
   "version": "3.5.2"
  }
 },
 "nbformat": 4,
 "nbformat_minor": 0
}