{
 "cells": [
  {
   "cell_type": "markdown",
   "metadata": {
    "collapsed": false
   },
   "source": [
    "Name: Aly Baughman, Cynthia Parks\n",
    "\n",
    "Student ID: 1923165, 2303535\n",
    "\n",
    "Email: baugh107@mail.chapman.edu, cparks@chapman.edu\n",
    "\n",
    "Course: CS510 Fall 2017\n",
    "\n",
    "Assignment: Classwork 9"
   ]
  },
  {
   "cell_type": "markdown",
   "metadata": {
    "collapsed": false
   },
   "source": [
    "## Algorithm Description"
   ]
  },
  {
   "cell_type": "markdown",
   "metadata": {
    "collapsed": false
   },
   "source": [
   ]
  },
  {
   "cell_type": "markdown",
   "metadata": {
    "collapsed": false
   },
   "source": [
    "## Problems with the Current Problem Definition"
   ]
  },
  {
   "cell_type": "markdown",
   "metadata": {
    "collapsed": false
   },
   "source": [
    "1) The factorial program is multplying everything by 0 in the last iteration which causes the computation for the factorial to be incorrect. In the last loop, n=1, which satifies the loop conditions, but then it is decremented to 0, and proceeds to multiply itself by the factorial.\n",
    "\n",
    "2) \n",
    "\n",
    "**Possible Solutions:**\n",
    "\n",
    "1) \n",
    "\n",
    "\n",
    "2) "
   ]
  }
 ],
 "metadata": {
  "kernelspec": {
   "display_name": "Python 3 (Anaconda)",
   "language": "python",
   "name": "anaconda3"
  },
  "language_info": {
   "codemirror_mode": {
    "name": "ipython",
    "version": 3
   },
   "file_extension": ".py",
   "mimetype": "text/x-python",
   "name": "python",
   "nbconvert_exporter": "python",
   "pygments_lexer": "ipython3",
   "version": "3.5.4"
  }
 },
 "nbformat": 4,
 "nbformat_minor": 0
}