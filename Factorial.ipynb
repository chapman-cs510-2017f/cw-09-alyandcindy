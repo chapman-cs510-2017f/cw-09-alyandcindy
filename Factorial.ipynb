{
 "cells": [
  {
   "cell_type": "markdown",
   "metadata": {
    "collapsed": false
   },
   "source": [
    "Name: Aly Baughman, Cynthia Parks\n",
    "\n",
    "Student ID: 1923165, 2303535\n",
    "\n",
    "Email: baugh107@mail.chapman.edu, cparks@chapman.edu\n",
    "\n",
    "Course: CS510 Fall 2017\n",
    "\n",
    "Assignment: Classwork 9"
   ]
  },
  {
   "cell_type": "markdown",
   "metadata": {
    "collapsed": false
   },
   "source": [
    "## Algorithm Description"
   ]
  },
  {
   "cell_type": "markdown",
   "metadata": {
    "collapsed": false
   },
   "source": [
    "The ideal factorial algorithm uses the input n as the factorial, and then takes the value n and decrements it, as long as it is above 1, and multiplies the value of n by the decremented values to 1, where then the factorial reuslt is found. If 0 is input, then the algorithm will return the factorial result at 1."
   ]
  },
  {
   "cell_type": "markdown",
   "metadata": {
    "collapsed": false
   },
   "source": [
    "## Problems with the Current Problem Definition"
   ]
  },
  {
   "cell_type": "markdown",
   "metadata": {
    "collapsed": false
   },
   "source": [
    "1) The factorial program is multplying everything by 0 in the last iteration which causes the computation for the factorial to be incorrect. In the last loop, n=1, which satifies the loop conditions, but then it is decremented to 0, and proceeds to multiply itself by the factorial.\n",
    "\n",
    "2) The factorial program runs incorrectly for n is equal to 0. The factorial of 0 is 1, which this code does not account for.\n",
    "\n",
    "**Possible Solutions:**\n",
    "\n",
    "1) To correct the first error, the loop is fixed in order to not decrement to 0.\n",
    "\n",
    "\n",
    "2) An if statement can be added for if n is equal to 0, then the factorial product of 1 is returned, which corrects the second error. "
   ]
  }
 ],
 "metadata": {
  "kernelspec": {
   "display_name": "Python 3 (Anaconda)",
   "language": "python",
   "name": "anaconda3"
  },
  "language_info": {
   "codemirror_mode": {
    "name": "ipython",
    "version": 3
   },
   "file_extension": ".py",
   "mimetype": "text/x-python",
   "name": "python",
   "nbconvert_exporter": "python",
   "pygments_lexer": "ipython3",
   "version": "3.5.4"
  }
 },
 "nbformat": 4,
 "nbformat_minor": 0
}